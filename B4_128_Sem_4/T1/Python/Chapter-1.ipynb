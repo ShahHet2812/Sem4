{
 "cells": [
  {
   "cell_type": "markdown",
   "metadata": {},
   "source": [
    "## Pandas\n",
    "1. Python Library used for working with datasets\n",
    "2. Analyzing,cleaning,explaining and manupulating data\n",
    "3. Pandas-->Pand data\n",
    "         --> Python Data Analysis\n",
    "4. Created by Wes Mckinny in 2008\n",
    "5. Analyze big data and make conclusions based on the statistical analysis\n",
    "6. Relevant Data is important in data science"
   ]
  },
  {
   "cell_type": "markdown",
   "metadata": {},
   "source": [
    "## Pandas Series\n",
    "1. Series is like a column in a table\n",
    "2. 1-D array holding the data of any type\n"
   ]
  },
  {
   "cell_type": "code",
   "execution_count": 8,
   "metadata": {},
   "outputs": [
    {
     "name": "stdout",
     "output_type": "stream",
     "text": [
      "0    1\n",
      "1    7\n",
      "2    2\n",
      "dtype: int64\n"
     ]
    }
   ],
   "source": [
    "import pandas  as pd\n",
    "a=[1,7,2]\n",
    "myvar=pd.Series(a)\n",
    "print(myvar)"
   ]
  },
  {
   "cell_type": "code",
   "execution_count": 10,
   "metadata": {},
   "outputs": [
    {
     "name": "stdout",
     "output_type": "stream",
     "text": [
      "7\n"
     ]
    }
   ],
   "source": [
    "import pandas  as pd\n",
    "a=[1,7,2]\n",
    "myvar=pd.Series(a,index=['x','y','z'])\n",
    "print(myvar['y'])"
   ]
  },
  {
   "cell_type": "code",
   "execution_count": 9,
   "metadata": {},
   "outputs": [
    {
     "name": "stdout",
     "output_type": "stream",
     "text": [
      "0    1.0\n",
      "1    7.0\n",
      "2    2.0\n",
      "3    1.4\n",
      "dtype: float64\n"
     ]
    }
   ],
   "source": [
    "import pandas  as pd\n",
    "a=[1,7,2,1.4]\n",
    "myvar=pd.Series(a)\n",
    "print(myvar)"
   ]
  },
  {
   "cell_type": "code",
   "execution_count": 12,
   "metadata": {},
   "outputs": [
    {
     "name": "stdout",
     "output_type": "stream",
     "text": [
      "Ram      50\n",
      "Shyam    60\n",
      "Radha    70\n",
      "Geeta    80\n",
      "Seeta    90\n",
      "Name: Student Result, dtype: int64\n"
     ]
    }
   ],
   "source": [
    "import pandas  as pd\n",
    "student_name=[\"Ram\",\"Shyam\",\"Radha\",\"Geeta\",\"Seeta\"]\n",
    "marks=[50,60,70,80,90]\n",
    "myvar=pd.Series(marks,index=student_name,name=\"Student Result\")\n",
    "print(myvar)"
   ]
  },
  {
   "cell_type": "code",
   "execution_count": 17,
   "metadata": {},
   "outputs": [
    {
     "name": "stdout",
     "output_type": "stream",
     "text": [
      "day1    400\n",
      "day2    250\n",
      "dtype: int64\n"
     ]
    }
   ],
   "source": [
    "import pandas  as pd\n",
    "calories={\"day1\":400,\"day2\":250,\"day3\":350}\n",
    "myvar=pd.Series(calories,index=[\"day1\",\"day2\"])\n",
    "print(myvar)"
   ]
  },
  {
   "cell_type": "code",
   "execution_count": 75,
   "metadata": {},
   "outputs": [
    {
     "name": "stdout",
     "output_type": "stream",
     "text": [
      "Ram      55\n",
      "Shyam    80\n",
      "Radha    70\n",
      "Name: Student Result, dtype: int64\n",
      "--------------------------------------------------\n",
      "3\n",
      "--------------------------------------------------\n",
      "int64\n",
      "--------------------------------------------------\n",
      "Student Result\n",
      "--------------------------------------------------\n",
      "Index(['Ram', 'Shyam', 'Radha'], dtype='object')\n",
      "--------------------------------------------------\n",
      "[55 80 70]\n",
      "--------------------------------------------------\n",
      "<class 'numpy.ndarray'>\n",
      "--------------------------------------------------\n",
      "True\n",
      "--------------------------------------------------\n"
     ]
    }
   ],
   "source": [
    "import pandas  as pd\n",
    "marks={\"Ram\":55,\"Shyam\":80,\"Radha\":70}\n",
    "myvar=pd.Series(marks,name=\"Student Result\")\n",
    "print(myvar)\n",
    "print(\"-\"*50)\n",
    "print(myvar.size)\n",
    "print(\"-\"*50)\n",
    "print(myvar.dtype)\n",
    "print(\"-\"*50)\n",
    "print(myvar.name)\n",
    "print(\"-\"*50)\n",
    "print(myvar.index)\n",
    "print(\"-\"*50)\n",
    "print(myvar.values)\n",
    "print(\"-\"*50)\n",
    "print(type(myvar.values))\n",
    "print(\"-\"*50)\n",
    "print(myvar.is_unique)\n",
    "print(\"-\"*50)"
   ]
  },
  {
   "cell_type": "code",
   "execution_count": 43,
   "metadata": {},
   "outputs": [
    {
     "name": "stdout",
     "output_type": "stream",
     "text": [
      "0       48\n",
      "1       57\n",
      "2       40\n",
      "3       43\n",
      "4       44\n",
      "      ... \n",
      "360    231\n",
      "361    226\n",
      "362    155\n",
      "363    144\n",
      "364    172\n",
      "Name: Subscribers gained, Length: 365, dtype: int64\n",
      "--------------------------------------------------\n",
      "<class 'pandas.core.series.Series'>\n",
      "--------------------------------------------------\n",
      "--------------------------------------------------\n",
      "count    365.000000\n",
      "mean     135.643836\n",
      "std       62.675023\n",
      "min       33.000000\n",
      "25%       88.000000\n",
      "50%      123.000000\n",
      "75%      177.000000\n",
      "max      396.000000\n",
      "Name: Subscribers gained, dtype: float64\n",
      "--------------------------------------------------\n",
      "33\n",
      "--------------------------------------------------\n",
      "396\n",
      "--------------------------------------------------\n",
      "123.0\n",
      "--------------------------------------------------\n",
      "49510\n",
      "--------------------------------------------------\n",
      "59\n",
      "--------------------------------------------------\n"
     ]
    }
   ],
   "source": [
    "import pandas as pd\n",
    "subs=pd.read_csv(\"subs.csv\",squeeze=True)\n",
    "print(subs)\n",
    "print(\"-\"*50)\n",
    "print(type(subs))\n",
    "print(\"-\"*50)\n",
    "subs\n",
    "print(\"-\"*50)\n",
    "print(subs.describe())\n",
    "print(\"-\"*50)\n",
    "print(subs.min())\n",
    "print(\"-\"*50)\n",
    "print(subs.max())\n",
    "print(\"-\"*50)\n",
    "print(subs.median())\n",
    "print(\"-\"*50)\n",
    "print(subs.sum())\n",
    "print(\"-\"*50)\n",
    "print(subs[subs>200].size)\n",
    "print(\"-\"*50)"
   ]
  },
  {
   "cell_type": "code",
   "execution_count": 79,
   "metadata": {},
   "outputs": [
    {
     "name": "stdout",
     "output_type": "stream",
     "text": [
      "movie\n",
      "Uri: The Surgical Strike                   Vicky Kaushal\n",
      "Battalion 609                                Vicky Ahuja\n",
      "The Accidental Prime Minister (film)         Anupam Kher\n",
      "Why Cheat India                            Emraan Hashmi\n",
      "Evening Shadows                         Mona Ambegaonkar\n",
      "                                              ...       \n",
      "Hum Tumhare Hain Sanam                    Shah Rukh Khan\n",
      "Aankhen (2002 film)                     Amitabh Bachchan\n",
      "Saathiya (film)                             Vivek Oberoi\n",
      "Company (film)                                Ajay Devgn\n",
      "Awara Paagal Deewana                        Akshay Kumar\n",
      "Name: lead, Length: 1500, dtype: object\n",
      "--------------------------------------------------\n",
      "movie\n",
      "Uri: The Surgical Strike                       Vicky Kaushal\n",
      "Battalion 609                                    Vicky Ahuja\n",
      "The Accidental Prime Minister (film)             Anupam Kher\n",
      "Why Cheat India                                Emraan Hashmi\n",
      "Evening Shadows                             Mona Ambegaonkar\n",
      "Soni (film)                             Geetika Vidya Ohlyan\n",
      "Fraud Saiyaan                                   Arshad Warsi\n",
      "Bombairiya                                      Radhika Apte\n",
      "Manikarnika: The Queen of Jhansi              Kangana Ranaut\n",
      "Thackeray (film)                         Nawazuddin Siddiqui\n",
      "Name: lead, dtype: object\n",
      "--------------------------------------------------\n",
      "movie\n",
      "Raaz (2002 film)                    Dino Morea\n",
      "Zameen (2003 film)                  Ajay Devgn\n",
      "Waisa Bhi Hota Hai Part II        Arshad Warsi\n",
      "Devdas (2002 Hindi film)        Shah Rukh Khan\n",
      "Kaante                        Amitabh Bachchan\n",
      "Hum Tumhare Hain Sanam          Shah Rukh Khan\n",
      "Aankhen (2002 film)           Amitabh Bachchan\n",
      "Saathiya (film)                   Vivek Oberoi\n",
      "Company (film)                      Ajay Devgn\n",
      "Awara Paagal Deewana              Akshay Kumar\n",
      "Name: lead, dtype: object\n",
      "--------------------------------------------------\n",
      "Vicky Kaushal\n",
      "--------------------------------------------------\n",
      "Vicky Kaushal\n",
      "--------------------------------------------------\n",
      "movie\n",
      "Uri: The Surgical Strike                   Vicky Kaushal\n",
      "The Accidental Prime Minister (film)         Anupam Kher\n",
      "Evening Shadows                         Mona Ambegaonkar\n",
      "Fraud Saiyaan                               Arshad Warsi\n",
      "Manikarnika: The Queen of Jhansi          Kangana Ranaut\n",
      "                                              ...       \n",
      "Raaz (2002 film)                              Dino Morea\n",
      "Waisa Bhi Hota Hai Part II                  Arshad Warsi\n",
      "Kaante                                  Amitabh Bachchan\n",
      "Aankhen (2002 film)                     Amitabh Bachchan\n",
      "Company (film)                                Ajay Devgn\n",
      "Name: lead, Length: 750, dtype: object\n",
      "--------------------------------------------------\n",
      "movie\n",
      "Uri: The Surgical Strike           Vicky Kaushal\n",
      "Battalion 609                        Vicky Ahuja\n",
      "Why Cheat India                    Emraan Hashmi\n",
      "Evening Shadows                 Mona Ambegaonkar\n",
      "Soni (film)                 Geetika Vidya Ohlyan\n",
      "Name: lead, dtype: object\n",
      "--------------------------------------------------\n",
      "movie\n",
      "Awara Paagal Deewana                        Akshay Kumar\n",
      "Company (film)                                Ajay Devgn\n",
      "Saathiya (film)                             Vivek Oberoi\n",
      "Aankhen (2002 film)                     Amitabh Bachchan\n",
      "Hum Tumhare Hain Sanam                    Shah Rukh Khan\n",
      "                                              ...       \n",
      "Evening Shadows                         Mona Ambegaonkar\n",
      "Why Cheat India                            Emraan Hashmi\n",
      "The Accidental Prime Minister (film)         Anupam Kher\n",
      "Battalion 609                                Vicky Ahuja\n",
      "Uri: The Surgical Strike                   Vicky Kaushal\n",
      "Name: lead, Length: 1500, dtype: object\n",
      "--------------------------------------------------\n",
      "True\n",
      "--------------------------------------------------\n",
      "True\n"
     ]
    }
   ],
   "source": [
    "import pandas as pd\n",
    "movies=pd.read_csv(\"bollywood.csv\",index_col=\"movie\",squeeze=True)\n",
    "print(movies)\n",
    "print(\"-\"*50)\n",
    "print(movies.head(10))\n",
    "print(\"-\"*50)\n",
    "print(movies.tail(10))\n",
    "print(\"-\"*50)\n",
    "print(movies[0])\n",
    "print(\"-\"*50)\n",
    "print(movies[\"Uri: The Surgical Strike\"])\n",
    "print(\"-\"*50)\n",
    "print(movies[::2])\n",
    "print(\"-\"*50)\n",
    "print(movies[[0,1,3,4,5]])\n",
    "print(\"-\"*50)\n",
    "print(movies[::-1])\n",
    "print(\"-\"*50)\n",
    "print(\"Battalion 609\" in movies)\n",
    "print(\"-\"*50)\n",
    "print(\"Alia Bhatt\" in movies.values)"
   ]
  }
 ],
 "metadata": {
  "kernelspec": {
   "display_name": "Python 3",
   "language": "python",
   "name": "python3"
  },
  "language_info": {
   "codemirror_mode": {
    "name": "ipython",
    "version": 3
   },
   "file_extension": ".py",
   "mimetype": "text/x-python",
   "name": "python",
   "nbconvert_exporter": "python",
   "pygments_lexer": "ipython3",
   "version": "3.8.5"
  }
 },
 "nbformat": 4,
 "nbformat_minor": 4
}
