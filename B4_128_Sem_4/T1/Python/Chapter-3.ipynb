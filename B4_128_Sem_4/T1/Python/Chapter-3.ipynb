{
 "cells": [
  {
   "cell_type": "markdown",
   "metadata": {},
   "source": [
    "### REGEX"
   ]
  },
  {
   "cell_type": "markdown",
   "metadata": {},
   "source": [
    "1. findall- returns a list containing all matches\n",
    "2. search- return a match object if there is a match\n",
    "3. split- return a list where string has been split at each match\n",
    "4. sub- replaces one or many matches with a string\n",
    "### Conditions\n",
    "1. [] - A set of characters  \"[a-m]\"\n",
    "2. \\ - signals a special sequence  \"\\d\"\n",
    "3. . - any character   \"he..o\"\n",
    "4. ^ - starts with \"^hello\"\n",
    "5. $ -ends with  \"planet$\"\n",
    "6. * - zero or more occurances \"he.*o\"\n",
    "7. + - one or more occurances  \"he.+o\"\n",
    "8. ? - zero or one occurance  \"he.?o\"\n",
    "9. {}-Exactly the specified no of occurance  \"he.{2}o\"\n",
    "10. | - Either or    \"falls||stays\" "
   ]
  },
  {
   "cell_type": "code",
   "execution_count": 45,
   "metadata": {},
   "outputs": [
    {
     "name": "stdout",
     "output_type": "stream",
     "text": [
      "['spain', 'plain']\n"
     ]
    }
   ],
   "source": [
    "import re\n",
    "txt=\"the rain in spain falls mainly in plain!\"\n",
    "x=re.findall(\"spain|plain\",txt)\n",
    "print(x)"
   ]
  },
  {
   "cell_type": "code",
   "execution_count": null,
   "metadata": {},
   "outputs": [],
   "source": []
  }
 ],
 "metadata": {
  "kernelspec": {
   "display_name": "Python 3",
   "language": "python",
   "name": "python3"
  },
  "language_info": {
   "codemirror_mode": {
    "name": "ipython",
    "version": 3
   },
   "file_extension": ".py",
   "mimetype": "text/x-python",
   "name": "python",
   "nbconvert_exporter": "python",
   "pygments_lexer": "ipython3",
   "version": "3.8.5"
  }
 },
 "nbformat": 4,
 "nbformat_minor": 4
}
