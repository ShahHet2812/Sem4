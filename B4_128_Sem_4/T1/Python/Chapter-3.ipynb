{
 "cells": [
  {
   "cell_type": "markdown",
   "metadata": {},
   "source": [
    "### REGEX"
   ]
  },
  {
   "cell_type": "markdown",
   "metadata": {},
   "source": [
    "1. findall- returns a list containing all matches\n",
    "2. search- return a match object if there is a match\n",
    "3. split- return a list where string has been split at each match\n",
    "4. sub- replaces one or many matches with a string\n",
    "### Conditions\n",
    "1. [] - A set of characters  \"[a-m]\"\n",
    "2. \\ - signals a special sequence  \"\\d\"\n",
    "3. . - any character   \"he..o\"\n",
    "4. ^ - starts with \"^hello\"\n",
    "5. $ -ends with  \"planet$\"\n",
    "6. * - zero or more occurances \"he.*o\"\n",
    "7. + - one or more occurances  \"he.+o\"\n",
    "8. ? - zero or one occurance  \"he.?o\"\n",
    "9. {}-Exactly the specified no of occurance  \"he.{2}o\"\n",
    "10. | - Either or    \"falls||stays\" "
   ]
  },
  {
   "cell_type": "code",
   "execution_count": 45,
   "metadata": {},
   "outputs": [
    {
     "name": "stdout",
     "output_type": "stream",
     "text": [
      "['spain', 'plain']\n"
     ]
    }
   ],
   "source": [
    "import re\n",
    "txt=\"the rain in spain falls mainly in plain!\"\n",
    "x=re.findall(\"spain|plain\",txt)\n",
    "print(x)"
   ]
  },
  {
   "cell_type": "code",
   "execution_count": 24,
   "metadata": {},
   "outputs": [
    {
     "name": "stdout",
     "output_type": "stream",
     "text": [
      "['08', '11', '45']\n"
     ]
    }
   ],
   "source": [
    "import re\n",
    "txt=\"08 times before 11:45 AM\"\n",
    "x=re.findall('[0-5][0-9]',txt)\n",
    "print(x)"
   ]
  },
  {
   "cell_type": "code",
   "execution_count": 30,
   "metadata": {},
   "outputs": [
    {
     "name": "stdout",
     "output_type": "stream",
     "text": [
      "(4, 8)\n",
      "4\n",
      "8\n"
     ]
    }
   ],
   "source": [
    "##Search function\n",
    "import re\n",
    "txt='The rain in spain'\n",
    "x=re.search('rain',txt)\n",
    "print(x.span())\n",
    "print(x.start())\n",
    "print(x.end())"
   ]
  },
  {
   "cell_type": "code",
   "execution_count": 34,
   "metadata": {},
   "outputs": [
    {
     "name": "stdout",
     "output_type": "stream",
     "text": [
      "(3, 7)\n"
     ]
    }
   ],
   "source": [
    "import re\n",
    "txt='no 7756spain'\n",
    "x=re.search('\\d+',txt)\n",
    "print(x.span())"
   ]
  },
  {
   "cell_type": "markdown",
   "metadata": {},
   "source": [
    "### Split function"
   ]
  },
  {
   "cell_type": "code",
   "execution_count": 49,
   "metadata": {},
   "outputs": [
    {
     "name": "stdout",
     "output_type": "stream",
     "text": [
      "['The', 'rain', 'in spain']\n"
     ]
    }
   ],
   "source": [
    "import re\n",
    "txt='The rain in spain'\n",
    "x=re.split('\\s',txt,2)\n",
    "print(x)"
   ]
  },
  {
   "cell_type": "code",
   "execution_count": 58,
   "metadata": {},
   "outputs": [
    {
     "name": "stdout",
     "output_type": "stream",
     "text": [
      "['The', 'brown', 'jump', 'the', 'dog.']\n"
     ]
    }
   ],
   "source": [
    "import re\n",
    "txt='The quick brown fox jump over the lazy dog.'\n",
    "pattern=r'\\s+\\w+\\s'\n",
    "x=re.split(pattern,txt)\n",
    "print(x)"
   ]
  },
  {
   "cell_type": "code",
   "execution_count": 60,
   "metadata": {},
   "outputs": [
    {
     "name": "stdout",
     "output_type": "stream",
     "text": [
      "['Twelve:', ' Eighty Nine:', '.']\n"
     ]
    }
   ],
   "source": [
    "import re\n",
    "txt='Twelve:12 Eighty Nine:89.'\n",
    "pattern='\\d+'\n",
    "x=re.split(pattern,txt)\n",
    "print(x)"
   ]
  },
  {
   "cell_type": "code",
   "execution_count": 69,
   "metadata": {},
   "outputs": [
    {
     "name": "stdout",
     "output_type": "stream",
     "text": [
      "The9rain9in9the9spain\n"
     ]
    }
   ],
   "source": [
    "#sub()\n",
    "import re\n",
    "txt='The rain in the spain'\n",
    "x=re.sub('\\s+','9',txt)\n",
    "print(x)"
   ]
  },
  {
   "cell_type": "code",
   "execution_count": 83,
   "metadata": {},
   "outputs": [
    {
     "name": "stdout",
     "output_type": "stream",
     "text": [
      "ahmedabad\n",
      "earth\n"
     ]
    }
   ],
   "source": [
    "#sub()\n",
    "import re\n",
    "txt='The rain in ahmedabad earth'\n",
    "x=re.split('\\s',txt)\n",
    "for i in x:\n",
    "    if i[0]=='a' or i[0]=='e':\n",
    "        print(i)"
   ]
  },
  {
   "cell_type": "code",
   "execution_count": 94,
   "metadata": {},
   "outputs": [
    {
     "name": "stdout",
     "output_type": "stream",
     "text": [
      "['2016/09/02']\n"
     ]
    }
   ],
   "source": [
    "import re\n",
    "url1='https://www.washingtonpost.com/news/football-insider/wp/2016/09/02/odell'\n",
    "pattern='\\d{4}[/]\\d{2}[/]\\d{2}'\n",
    "x=re.findall(pattern,url1)\n",
    "print(x)"
   ]
  },
  {
   "cell_type": "code",
   "execution_count": 104,
   "metadata": {},
   "outputs": [
    {
     "name": "stdout",
     "output_type": "stream",
     "text": [
      "['9924206482', '9328855436', '8160641056', '9824206482', '8200179325']\n"
     ]
    }
   ],
   "source": [
    "import re\n",
    "num='9924206482 9328855436 1234682020 8160641056 9824206482 3265055005 8200179325'\n",
    "pattern='[6-9][0-9]{9}'\n",
    "x=re.findall(pattern,num)\n",
    "print(x)"
   ]
  },
  {
   "cell_type": "code",
   "execution_count": 127,
   "metadata": {},
   "outputs": [
    {
     "name": "stdout",
     "output_type": "stream",
     "text": [
      "['abc.def@gmail.com', 'gmail.com']\n"
     ]
    }
   ],
   "source": [
    "import re\n",
    "txt=\"my email id is   abc.def@gmail.com Contact Me here het8852@gmail.com\"\n",
    "x=re.findall('[a-zA-Z0-9]*[.][a-zA-Z0-9]*[@gmail.com]+',txt)\n",
    "print(x)"
   ]
  },
  {
   "cell_type": "code",
   "execution_count": 130,
   "metadata": {},
   "outputs": [
    {
     "name": "stdout",
     "output_type": "stream",
     "text": [
      "abc.def@gmail.com\n",
      "tejas.thakkar@gmail.com\n",
      "tejasthakkar@gmail.com\n"
     ]
    }
   ],
   "source": [
    "# Task 3: Using RE, Find the email id from the sentence\n",
    "import re\n",
    "num=\"My email id is abc.def@gmail.com   tejas.thakkar@gmail.com tejasthakkar@gmail.com\"\n",
    "x=re.split(\"\\s\",num)\n",
    "for i in x:\n",
    "    if '@' and '.com' in i:\n",
    "        print(i)"
   ]
  },
  {
   "cell_type": "code",
   "execution_count": null,
   "metadata": {},
   "outputs": [],
   "source": []
  }
 ],
 "metadata": {
  "kernelspec": {
   "display_name": "Python 3",
   "language": "python",
   "name": "python3"
  },
  "language_info": {
   "codemirror_mode": {
    "name": "ipython",
    "version": 3
   },
   "file_extension": ".py",
   "mimetype": "text/x-python",
   "name": "python",
   "nbconvert_exporter": "python",
   "pygments_lexer": "ipython3",
   "version": "3.8.5"
  }
 },
 "nbformat": 4,
 "nbformat_minor": 4
}
